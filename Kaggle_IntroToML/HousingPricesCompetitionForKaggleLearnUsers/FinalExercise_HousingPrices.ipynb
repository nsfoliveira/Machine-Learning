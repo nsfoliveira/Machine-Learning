{
 "cells": [
  {
   "cell_type": "markdown",
   "id": "37a303e5-1fcf-41d3-8d7d-bc760a5c7f7c",
   "metadata": {},
   "source": [
    "## Exercise 1: Explore Your Data\n",
    "\n",
    "This exercise will test your ability to read a data file and understand statistics about the data.\n"
   ]
  },
  {
   "cell_type": "markdown",
   "id": "0ddd38b8-2a89-4098-9468-6577f5e75371",
   "metadata": {},
   "source": [
    "### Step 1: Loading Data\n",
    "Read the Iowa data file into a Pandas DataFrame called `home_data`."
   ]
  },
  {
   "cell_type": "markdown",
   "id": "59616eb8-e3b0-4405-adaf-164b2059d314",
   "metadata": {},
   "source": [
    "## Step 2: Review The Data\n",
    "Use the command you learned to view summary statistics of the data. Then fill in variables to answer the following questions"
   ]
  }
 ],
 "metadata": {
  "kernelspec": {
   "display_name": "Python 3",
   "language": "python",
   "name": "python3"
  },
  "language_info": {
   "codemirror_mode": {
    "name": "ipython",
    "version": 3
   },
   "file_extension": ".py",
   "mimetype": "text/x-python",
   "name": "python",
   "nbconvert_exporter": "python",
   "pygments_lexer": "ipython3",
   "version": "3.8.8"
  }
 },
 "nbformat": 4,
 "nbformat_minor": 5
}
